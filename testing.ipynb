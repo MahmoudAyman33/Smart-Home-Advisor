{
 "cells": [
  {
   "cell_type": "code",
   "execution_count": 3,
   "metadata": {},
   "outputs": [],
   "source": [
    "import pandas as pd\n",
    "import os\n",
    "import glob\n",
    "import numpy as np\n",
    "from sqlalchemy import create_engine"
   ]
  },
  {
   "cell_type": "code",
   "execution_count": 4,
   "metadata": {},
   "outputs": [],
   "source": [
    "def extract_data(data_dir:str) -> pd.DataFrame:\n",
    "    # extract and combine all csv files.\n",
    "    all_files = glob.glob(os.path.join(data_dir , \"*.csv\"))\n",
    "    li = []\n",
    "    for filename in all_files:\n",
    "        df = pd.read_csv(filename)\n",
    "        li.append(df)\n",
    "    frame = pd.concat(li, axis=0, ignore_index=True)\n",
    "    return frame"
   ]
  },
  {
   "cell_type": "code",
   "execution_count": 16,
   "metadata": {},
   "outputs": [
    {
     "data": {
      "text/plain": [
       "(1500, 35)"
      ]
     },
     "execution_count": 16,
     "metadata": {},
     "output_type": "execute_result"
    }
   ],
   "source": [
    "data_directory = r'.\\data\\products'\n",
    "# E\n",
    "\n",
    "extracted_data = extract_data(data_directory)\n",
    "extracted_data.shape"
   ]
  },
  {
   "cell_type": "code",
   "execution_count": 17,
   "metadata": {},
   "outputs": [
    {
     "data": {
      "text/plain": [
       "(460, 8)"
      ]
     },
     "execution_count": 17,
     "metadata": {},
     "output_type": "execute_result"
    }
   ],
   "source": [
    "sellers = pd.read_csv('data/sellers.csv')\n",
    "sellers.shape"
   ]
  },
  {
   "cell_type": "code",
   "execution_count": 21,
   "metadata": {},
   "outputs": [
    {
     "name": "stdout",
     "output_type": "stream",
     "text": [
      "Index(['link', 'id', 'title', 'images', 'member_since', 'description', 'owner',\n",
      "       'reviews', 'google_maps_locatoin_link', 'long', 'lat', 'owner_link',\n",
      "       'price', 'City', 'Neighborhood', 'Zoned for', 'Land Area', 'Facade',\n",
      "       'Property Mortgaged?', 'Lister Type', 'Payment Method', 'Category',\n",
      "       'Subcategory', 'Nearby', 'Bedrooms', 'Bathrooms', 'Furnished?',\n",
      "       'Surface Area', 'Floor', 'Building Age', 'Main Amenities',\n",
      "       'Reference ID', 'Number of Floors', 'Additional Amenities',\n",
      "       'Property Status'],\n",
      "      dtype='object')\n"
     ]
    },
    {
     "data": {
      "text/html": [
       "<div>\n",
       "<style scoped>\n",
       "    .dataframe tbody tr th:only-of-type {\n",
       "        vertical-align: middle;\n",
       "    }\n",
       "\n",
       "    .dataframe tbody tr th {\n",
       "        vertical-align: top;\n",
       "    }\n",
       "\n",
       "    .dataframe thead th {\n",
       "        text-align: right;\n",
       "    }\n",
       "</style>\n",
       "<table border=\"1\" class=\"dataframe\">\n",
       "  <thead>\n",
       "    <tr style=\"text-align: right;\">\n",
       "      <th></th>\n",
       "      <th>owner</th>\n",
       "      <th>owner_link</th>\n",
       "    </tr>\n",
       "  </thead>\n",
       "  <tbody>\n",
       "    <tr>\n",
       "      <th>0</th>\n",
       "      <td>مكتب العال و الروضه العقاري</td>\n",
       "      <td>https://opensooq.com/en/mid/member-5443819</td>\n",
       "    </tr>\n",
       "    <tr>\n",
       "      <th>1</th>\n",
       "      <td>الكسواني للاسكان</td>\n",
       "      <td>https://opensooq.com/en/mid/member-1534066827100</td>\n",
       "    </tr>\n",
       "    <tr>\n",
       "      <th>2</th>\n",
       "      <td>شركه رائد العساف وشريكه</td>\n",
       "      <td>https://opensooq.com/en/mid/member-145796546167</td>\n",
       "    </tr>\n",
       "    <tr>\n",
       "      <th>3</th>\n",
       "      <td>بلال نجم</td>\n",
       "      <td>https://opensooq.com/en/mid/member-163196666279</td>\n",
       "    </tr>\n",
       "    <tr>\n",
       "      <th>4</th>\n",
       "      <td>الكسواني للاسكان</td>\n",
       "      <td>https://opensooq.com/en/mid/member-1534066827100</td>\n",
       "    </tr>\n",
       "    <tr>\n",
       "      <th>...</th>\n",
       "      <td>...</td>\n",
       "      <td>...</td>\n",
       "    </tr>\n",
       "    <tr>\n",
       "      <th>1495</th>\n",
       "      <td>F J T</td>\n",
       "      <td>https://opensooq.com/en/mid/member-3782353</td>\n",
       "    </tr>\n",
       "    <tr>\n",
       "      <th>1496</th>\n",
       "      <td>جيفارا العقاري</td>\n",
       "      <td>https://opensooq.com/en/shops/جيفارا-العقاري-7...</td>\n",
       "    </tr>\n",
       "    <tr>\n",
       "      <th>1497</th>\n",
       "      <td>ابو الخير</td>\n",
       "      <td>https://opensooq.com/en/mid/member-145700906456</td>\n",
       "    </tr>\n",
       "    <tr>\n",
       "      <th>1498</th>\n",
       "      <td>الثقه العقاريه</td>\n",
       "      <td>https://opensooq.com/en/shops/الثقه-العقاريه-1...</td>\n",
       "    </tr>\n",
       "    <tr>\n",
       "      <th>1499</th>\n",
       "      <td>مؤيد الحلبي</td>\n",
       "      <td>https://opensooq.com/en/mid/member-3631191</td>\n",
       "    </tr>\n",
       "  </tbody>\n",
       "</table>\n",
       "<p>1500 rows × 2 columns</p>\n",
       "</div>"
      ],
      "text/plain": [
       "                             owner  \\\n",
       "0      مكتب العال و الروضه العقاري   \n",
       "1                 الكسواني للاسكان   \n",
       "2          شركه رائد العساف وشريكه   \n",
       "3                         بلال نجم   \n",
       "4                 الكسواني للاسكان   \n",
       "...                            ...   \n",
       "1495                         F J T   \n",
       "1496                جيفارا العقاري   \n",
       "1497                     ابو الخير   \n",
       "1498                الثقه العقاريه   \n",
       "1499                   مؤيد الحلبي   \n",
       "\n",
       "                                             owner_link  \n",
       "0            https://opensooq.com/en/mid/member-5443819  \n",
       "1      https://opensooq.com/en/mid/member-1534066827100  \n",
       "2       https://opensooq.com/en/mid/member-145796546167  \n",
       "3       https://opensooq.com/en/mid/member-163196666279  \n",
       "4      https://opensooq.com/en/mid/member-1534066827100  \n",
       "...                                                 ...  \n",
       "1495         https://opensooq.com/en/mid/member-3782353  \n",
       "1496  https://opensooq.com/en/shops/جيفارا-العقاري-7...  \n",
       "1497    https://opensooq.com/en/mid/member-145700906456  \n",
       "1498  https://opensooq.com/en/shops/الثقه-العقاريه-1...  \n",
       "1499         https://opensooq.com/en/mid/member-3631191  \n",
       "\n",
       "[1500 rows x 2 columns]"
      ]
     },
     "execution_count": 21,
     "metadata": {},
     "output_type": "execute_result"
    }
   ],
   "source": [
    "print(extracted_data.columns)\n",
    "extracted_data[['owner','owner_link']]"
   ]
  },
  {
   "cell_type": "code",
   "execution_count": 26,
   "metadata": {},
   "outputs": [
    {
     "data": {
      "text/plain": [
       "22"
      ]
     },
     "execution_count": 26,
     "metadata": {},
     "output_type": "execute_result"
    }
   ],
   "source": [
    "extracted_data['owner'].isnull().sum()"
   ]
  },
  {
   "cell_type": "code",
   "execution_count": 27,
   "metadata": {},
   "outputs": [],
   "source": [
    "all = extracted_data.merge(sellers, on='owner_link', how='left')"
   ]
  },
  {
   "cell_type": "code",
   "execution_count": 2,
   "metadata": {},
   "outputs": [],
   "source": [
    "from bs4 import BeautifulSoup\n",
    "import requests\n",
    "import pandas as pd\n",
    "import time\n",
    "import re"
   ]
  },
  {
   "cell_type": "code",
   "execution_count": 10,
   "metadata": {},
   "outputs": [
    {
     "name": "stdout",
     "output_type": "stream",
     "text": [
      "<Response [200]>\n"
     ]
    }
   ],
   "source": [
    "print(requests.get('https://opensooq.com'))"
   ]
  },
  {
   "cell_type": "code",
   "execution_count": 8,
   "metadata": {},
   "outputs": [],
   "source": [
    "links = pd.read_csv('data/links.csv')\n",
    "links = links.iloc[5000:]"
   ]
  },
  {
   "cell_type": "code",
   "execution_count": 9,
   "metadata": {},
   "outputs": [
    {
     "data": {
      "text/plain": [
       "27850"
      ]
     },
     "execution_count": 9,
     "metadata": {},
     "output_type": "execute_result"
    }
   ],
   "source": [
    "len(links)"
   ]
  },
  {
   "cell_type": "code",
   "execution_count": 18,
   "metadata": {},
   "outputs": [],
   "source": [
    "for row in range(5000,len(links)):\n",
    "    link = links.loc[row,'link']   "
   ]
  },
  {
   "cell_type": "code",
   "execution_count": null,
   "metadata": {},
   "outputs": [],
   "source": [
    "def scrape_links(URL:str) -> str:\n",
    "    df = []\n",
    "    i = 1\n",
    "    while True:\n",
    "        url = f'{URL}&page={i}'\n",
    "        r = requests.get(url) \n",
    "        if r.title.text == '404 Not Found':\n",
    "            break\n",
    "        else:\n",
    "            soup = BeautifulSoup(r.content)\n",
    "            table = soup.find('section', attrs = {'id':'serpMainContent'})\n",
    "            for row in table.findAll('div', {'class':re.compile('sc-21acf5d5-0 jhHVZS mb-32 relative radius-8 grayHoverBg whiteBg boxShadow2')}): \n",
    "                data = {}\n",
    "                data['id'] = row.a['href'][11:20]\n",
    "                data['link'] = 'https://opensooq.com'+row.a['href']\n",
    "                data['price'] = row.find('div',{'class':'priceColor bold alignSelfCenter font-18 ms-auto'}).text\n",
    "                df.append(data)\n",
    "            if i%50==0:\n",
    "                time.sleep(60)\n",
    "                print(f'Pages Scrpaed: {i}')\n",
    "            url = URL\n",
    "            i+=1\n",
    "    pd.DataFrame(df).to_csv('data/links.csv',index_label=False)\n",
    "    return \"Scraping Products Links is Done!\""
   ]
  }
 ],
 "metadata": {
  "kernelspec": {
   "display_name": "Python 3",
   "language": "python",
   "name": "python3"
  },
  "language_info": {
   "codemirror_mode": {
    "name": "ipython",
    "version": 3
   },
   "file_extension": ".py",
   "mimetype": "text/x-python",
   "name": "python",
   "nbconvert_exporter": "python",
   "pygments_lexer": "ipython3",
   "version": "3.11.5"
  }
 },
 "nbformat": 4,
 "nbformat_minor": 2
}
